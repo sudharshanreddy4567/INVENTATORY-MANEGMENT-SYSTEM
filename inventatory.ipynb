{
 "cells": [
  {
   "cell_type": "code",
   "execution_count": 18,
   "metadata": {},
   "outputs": [
    {
     "data": {
      "text/plain": [
       "{1: {'name': 'milk', 'price': 25, 'quantity': 10},\n",
       " 2: {'name': 'Ghee', 'price': 100, 'quantity': 15},\n",
       " 3: {'name': 'Butter', 'price': 150, 'quantity': 30},\n",
       " 4: {'name': 'Cream', 'price': 50, 'quantity': 25}}"
      ]
     },
     "execution_count": 18,
     "metadata": {},
     "output_type": "execute_result"
    }
   ],
   "source": [
    "record={1:{\"name\":\"milk\",\"price\":25,\"quantity\":10},\n",
    "        2:{\"name\":\"Ghee\",\"price\":100,\"quantity\":15},\n",
    "        3:{\"name\":\"Butter\",\"price\":150,\"quantity\":30},\n",
    "        4:{\"name\":\"Cream\",\"price\":50,\"quantity\":25}\n",
    "\n",
    "        }\n",
    "\n",
    "record"
   ]
  },
  {
   "cell_type": "code",
   "execution_count": 15,
   "metadata": {},
   "outputs": [
    {
     "name": "stdout",
     "output_type": "stream",
     "text": [
      "milk\n",
      "25\n",
      "10\n"
     ]
    }
   ],
   "source": [
    "print(record[1][\"name\"])\n",
    "print(record[1][\"price\"])\n",
    "print(record[1][\"quantity\"])\n"
   ]
  },
  {
   "cell_type": "code",
   "execution_count": 40,
   "metadata": {},
   "outputs": [
    {
     "name": "stdout",
     "output_type": "stream",
     "text": [
      "-------------------Menu--------------------\n",
      "\n",
      "1  :  milk | 25 | 10\n",
      "2  :  Ghee | 100 | 15\n",
      "3  :  Butter | 150 | 30\n",
      "4  :  Cream | 50 | 25\n",
      "--------------------------------------------------\n"
     ]
    },
    {
     "name": "stdout",
     "output_type": "stream",
     "text": [
      "--------------------------------------------------\n",
      "PRODUCT ORDER NAME : Ghee\n",
      "PRODUCT ORDER PRICE:  100\n",
      "ORDER QUANTITY IS:  3\n",
      "------------------------------------------------------------\n",
      "BILLING AMOUNT:  300 RS\n",
      "--------------------------------------------------\n"
     ]
    }
   ],
   "source": [
    "import json\n",
    "record={1:{\"name\":\"milk\",\"price\":25,\"quantity\":10},\n",
    "        2:{\"name\":\"Ghee\",\"price\":100,\"quantity\":15},\n",
    "        3:{\"name\":\"Butter\",\"price\":150,\"quantity\":30},\n",
    "        4:{\"name\":\"Cream\",\"price\":50,\"quantity\":25}\n",
    "\n",
    "        }\n",
    "print(\"-------------------Menu--------------------\\n\")\n",
    "for key in record.keys():\n",
    "    print(key,\" : \",record[key]['name'],\"|\",record[key]['price'],\"|\",record[key][\"quantity\"])\n",
    "\n",
    "print(\"-\"*50)\n",
    "\n",
    "a=int(input(\"Enter the product Id: \"))\n",
    "b=int(input(\"Enter the quantity: \"))\n",
    "\n",
    "print(\"-\"*50)\n",
    "\n",
    "print(\"PRODUCT ORDER NAME :\",record[a][\"name\"])\n",
    "print(\"PRODUCT ORDER PRICE: \",record[a][\"price\"])\n",
    "print(\"ORDER QUANTITY IS: \",b)\n",
    "\n",
    "print('-'*60)\n",
    "\n",
    "print(\"BILLING AMOUNT: \",int(b)*int(record[a]['price']),\"RS\")\n",
    "print(\"-\"*50)\n",
    "\n",
    "js=json.dumps(record)\n",
    "\n",
    "fd=open(\"record.json\",'w')\n",
    "fd.write(js)\n",
    "fd.close()\n",
    "\n"
   ]
  },
  {
   "cell_type": "code",
   "execution_count": 42,
   "metadata": {},
   "outputs": [
    {
     "data": {
      "text/plain": [
       "{1: {'name': 'milk', 'price': 25, 'quantity': 10},\n",
       " 2: {'name': 'Ghee', 'price': 100, 'quantity': 15},\n",
       " 3: {'name': 'Butter', 'price': 150, 'quantity': 30},\n",
       " 4: {'name': 'Cream', 'price': 50, 'quantity': 25}}"
      ]
     },
     "execution_count": 42,
     "metadata": {},
     "output_type": "execute_result"
    }
   ],
   "source": [
    "record"
   ]
  },
  {
   "cell_type": "code",
   "execution_count": 39,
   "metadata": {},
   "outputs": [
    {
     "data": {
      "text/plain": [
       "'{\"1\": {\"name\": \"milk\", \"price\": 25, \"quantity\": 10}, \"2\": {\"name\": \"Ghee\", \"price\": 100, \"quantity\": 15}, \"3\": {\"name\": \"Butter\", \"price\": 150, \"quantity\": 30}, \"4\": {\"name\": \"Cream\", \"price\": 50, \"quantity\": 25}}'"
      ]
     },
     "execution_count": 39,
     "metadata": {},
     "output_type": "execute_result"
    }
   ],
   "source": [
    "json.dumps(record)\n",
    "p"
   ]
  },
  {
   "cell_type": "code",
   "execution_count": 83,
   "metadata": {},
   "outputs": [
    {
     "name": "stdout",
     "output_type": "stream",
     "text": [
      "-------------MENU--------------\n",
      "1  |  milk  |  25  |  10\n",
      "2  |  Ghee  |  100  |  10\n",
      "3  |  Butter  |  150  |  26\n",
      "4  |  Cream  |  50  |  25\n",
      "------------------------------------------------------------\n",
      "-----------BILLING AMOUNT----------\n",
      "TOTAL AMOUNT :  750\n",
      "------------------------------------------------------------\n"
     ]
    }
   ],
   "source": [
    "import time\n",
    "import json\n",
    "\n",
    "fd=open(\"record.json\",'r')\n",
    "js=fd.read()\n",
    "fd.close()\n",
    "record=json.loads(js)\n",
    "\n",
    "\n",
    "print('-------------MENU--------------')\n",
    "for keys in record.keys():\n",
    "    print(keys,\" | \",record[keys]['name'],\" | \",record[keys]['price'],\" | \",record[keys]['quantity'])\n",
    "\n",
    "print(\"-\"*60)\n",
    "# name=str(input(\"ENTER YOU NAME :\"))\n",
    "# pho=str(input(\"Enter yout phone number: \"))\n",
    "# email=input(\"Enter your email-id: \")\n",
    "a=str(input(\"Enter the product id: \"))\n",
    "b=str(input(\"Enter the required quantity: \"))\n",
    "\n",
    "\n",
    "print(\"-----------BILLING AMOUNT----------\")\n",
    "print(\"TOTAL AMOUNT : \",int(b)*record[a]['price'])\n",
    "record[a]['quantity']=record[a]['quantity']-int(b)\n",
    "print(\"-\"*60)\n",
    "\n",
    "js=json.dumps(record)\n",
    "fd=open(\"record.json\",'w')\n",
    "fd.write(js)\n",
    "fd.close()"
   ]
  },
  {
   "cell_type": "code",
   "execution_count": 76,
   "metadata": {},
   "outputs": [
    {
     "data": {
      "text/plain": [
       "{'1': {'name': 'milk', 'price': 25, 'quantity': 10},\n",
       " '2': {'name': 'Ghee', 'price': 100, 'quantity': 12},\n",
       " '3': {'name': 'Butter', 'price': 150, 'quantity': 30},\n",
       " '4': {'name': 'Cream', 'price': 50, 'quantity': 25}}"
      ]
     },
     "execution_count": 76,
     "metadata": {},
     "output_type": "execute_result"
    }
   ],
   "source": [
    "json.loads(js)"
   ]
  },
  {
   "cell_type": "code",
   "execution_count": 73,
   "metadata": {},
   "outputs": [
    {
     "data": {
      "text/plain": [
       "{1: {'name': 'milk', 'price': 25, 'quantity': 10},\n",
       " 2: {'name': 'Ghee', 'price': 100, 'quantity': 12},\n",
       " 3: {'name': 'Butter', 'price': 150, 'quantity': 30},\n",
       " 4: {'name': 'Cream', 'price': 50, 'quantity': 25}}"
      ]
     },
     "execution_count": 73,
     "metadata": {},
     "output_type": "execute_result"
    }
   ],
   "source": [
    "fd=open('record.json','r')\n",
    "js=fd.read()\n",
    "fd.close()"
   ]
  },
  {
   "cell_type": "code",
   "execution_count": 77,
   "metadata": {},
   "outputs": [
    {
     "data": {
      "text/plain": [
       "'{\"1\": {\"name\": \"milk\", \"price\": 25, \"quantity\": 10}, \"2\": {\"name\": \"Ghee\", \"price\": 100, \"quantity\": 12}, \"3\": {\"name\": \"Butter\", \"price\": 150, \"quantity\": 30}, \"4\": {\"name\": \"Cream\", \"price\": 50, \"quantity\": 25}}'"
      ]
     },
     "execution_count": 77,
     "metadata": {},
     "output_type": "execute_result"
    }
   ],
   "source": [
    "js"
   ]
  },
  {
   "cell_type": "code",
   "execution_count": null,
   "metadata": {},
   "outputs": [],
   "source": [
    "js"
   ]
  },
  {
   "cell_type": "code",
   "execution_count": 20,
   "metadata": {},
   "outputs": [
    {
     "name": "stdout",
     "output_type": "stream",
     "text": [
      "-----------MAIN MENU-------------\n",
      "1  |  milk  |  25  |  10\n",
      "------------------------------------------------------------\n",
      "2  |  Ghee  |  100  |  18\n",
      "------------------------------------------------------------\n",
      "3  |  Butter  |  150  |  48\n",
      "------------------------------------------------------------\n",
      "4  |  Cream  |  50  |  0\n",
      "------------------------------------------------------------\n",
      "Customer name   :  NEERAJ\n",
      "Email Id        :  w@mail.com\n",
      "Phone number    :  123456\n",
      "Item name       :  Ghee\n",
      "Item name is    :  Ghee\n",
      "price quantity  :  100\n",
      "Quantity        :  1\n",
      "-----------BILLING AMOUNT--------------\n",
      "Total bill amount :  100\n",
      "------------------------------------------------------------\n",
      "--------\n"
     ]
    }
   ],
   "source": [
    "import json\n",
    "import time\n",
    "fd=open(\"p1.json\",'r')\n",
    "k=fd.read()\n",
    "fd.close()\n",
    "records=json.loads(k)\n",
    "a=1\n",
    "print(\"-----------MAIN MENU-------------\")\n",
    "for keys in records.keys():\n",
    "    print(keys,\" | \",records[keys]['name'],\" | \",records[keys]['price'],\" | \",records[keys]['quantity'] )\n",
    "    print(\"-\"*60)\n",
    "\n",
    "name=str(input(\"Enter your name: \"))\n",
    "mail=str(input(\"Enter yout Email-Id: \"))\n",
    "phone=str(input(\"Enter your phone number:\"))\n",
    "a=str(input(\"Enter item id: \"))\n",
    "b=str(input(\"Enter quantity: \"))\n",
    "if(records[a]['quantity']>=int(b)):\n",
    "    print(\"Customer name   : \",name.upper())\n",
    "    print(\"Email Id        : \",mail)\n",
    "    print(\"Phone number    : \",phone)\n",
    "    print(\"Item name       : \",records[a]['name'])\n",
    "    print(\"Item name is    : \",records[a]['name'])\n",
    "    print(\"price quantity  : \",records[a]['price'])\n",
    "    print(\"Quantity        : \",b)\n",
    "\n",
    "    print(\"-----------BILLING AMOUNT--------------\")\n",
    "    print(\"Total bill amount : \",int(records[a]['price'])*int(b))\n",
    "    records[a]['quantity']=int(records[a]['quantity'])-int(b)\n",
    "    print(\"-\"*60)\n",
    "    sales='1'+\",\"+name+\",\"+mail+\",\"+phone+\",\"+records[a]['name']+\",\"+a+\",\"+str(b)+\",\"+str(int(records[a]['quantity'])*int(records[a]['price'])+\",\"+time.ctime)\n",
    "elif (records[a]['quantity']==0):\n",
    "    print(\"NO item was not avalible \")\n",
    "    print(\"Thank you\")\n",
    "    print(\"---------VISIT AGAIN-----------\")\n",
    "else:\n",
    "    print(\"Sorry we have only \",records[a]['quantity'],\"Qunatity\")\n",
    "    print(\"If you want this quantity Press YES/NO: \")\n",
    "    ch=input(\"Enter Y/N: \")\n",
    "    if ch=='y' or ch=='Y':\n",
    "        print(\"Customer name   : \",name.upper())\n",
    "        print(\"Email Id        : \",mail)\n",
    "        print(\"Phone number    : \",phone)\n",
    "        print(\"Item name: \",records[a]['name'])\n",
    "        print(\"Item name is: \",records[a]['name'])\n",
    "        print(\"price quantity: \",records[a]['price'])\n",
    "        print(\"Quantity: \",records[a]['quantity'])\n",
    "\n",
    "        print(\"-----------BILLING AMOUNT--------------\")\n",
    "        print(\"Total bill amount : \",int(records[a]['price'])*int(b))\n",
    "        records[a]['quantity']=0\n",
    "        print(\"-\"*60)\n",
    "        sales='1'+\",\"+name+\",\"+mail+\",\"+phone+\",\"+records[a]['name']+\",\"+a+\",\"+str(records[a]['quantity'])+\",\"+str(int(records[a]['quantity'])*int(records[a]['price'])+\",\"+time.ctime)\n",
    "    elif ch=='n' or ch=='N':\n",
    "        print(\"Thank you Vist again\")\n",
    "    else:\n",
    "        print(\"Thank you Visit again\")\n",
    "\n",
    "\n",
    "\n",
    "js=json.dumps(records)\n",
    "fd=open(\"p1.json\",'w')\n",
    "fd.write(js)\n",
    "fd.close()\n",
    "\n",
    "print(\"--------\")"
   ]
  },
  {
   "cell_type": "code",
   "execution_count": 47,
   "metadata": {},
   "outputs": [
    {
     "data": {
      "text/plain": [
       "'1,neeraj,w@mail.com,123456,Ghee,2,17,17171717171717171717171717171717171717171717171717171717171717171717171717171717171717171717171717171717171717171717171717171717171717171717171717171717171717171717171717171717171717171717171717171717,<built-in function ctime>'"
      ]
     },
     "execution_count": 47,
     "metadata": {},
     "output_type": "execute_result"
    }
   ],
   "source": [
    "'1'+\",\"+name+\",\"+mail+\",\"+phone+\",\"+records[a]['name']+\",\"+str(a)+\",\"+str(int(records[a]['quantity']))+\",\"+str(records[a]['quantity'])*int(records[a]['price'])+\",\"+str(time.ctime)"
   ]
  },
  {
   "cell_type": "code",
   "execution_count": 60,
   "metadata": {},
   "outputs": [
    {
     "data": {
      "text/plain": [
       "{2: {'name': 'Ghee', 'price': 100, 'quantity': 15},\n",
       " 3: {'name': 'Butter', 'price': 150, 'quantity': 30},\n",
       " 4: {'name': 'Cream', 'price': 50, 'quantity': 25},\n",
       " 103: 'kio'}"
      ]
     },
     "execution_count": 60,
     "metadata": {},
     "output_type": "execute_result"
    }
   ],
   "source": [
    "record={1:{\"name\":\"milk\",\"price\":25,\"quantity\":10},\n",
    "        2:{\"name\":\"Ghee\",\"price\":100,\"quantity\":15},\n",
    "        3:{\"name\":\"Butter\",\"price\":150,\"quantity\":30},\n",
    "        4:{\"name\":\"Cream\",\"price\":50,\"quantity\":25}\n",
    "\n",
    "        }\n",
    "del record[1]\n",
    "record[103]=\"kio\"\n",
    "record.p"
   ]
  }
 ],
 "metadata": {
  "kernelspec": {
   "display_name": "Python 3",
   "language": "python",
   "name": "python3"
  },
  "language_info": {
   "codemirror_mode": {
    "name": "ipython",
    "version": 3
   },
   "file_extension": ".py",
   "mimetype": "text/x-python",
   "name": "python",
   "nbconvert_exporter": "python",
   "pygments_lexer": "ipython3",
   "version": "3.10.7"
  }
 },
 "nbformat": 4,
 "nbformat_minor": 2
}
